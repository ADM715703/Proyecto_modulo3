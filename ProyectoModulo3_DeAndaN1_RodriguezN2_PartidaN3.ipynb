{
 "cells": [
  {
   "cell_type": "markdown",
   "metadata": {},
   "source": [
    "# Proyecto Modulo # 3 \n",
    "\n",
    " - Ana Esmeralda Rodriguez Rodriguez \n",
    " -  <font color = pink> José Partida Padilla </font>\n",
    " -  Alejandro de Anda Martín "
   ]
  },
  {
   "cell_type": "markdown",
   "metadata": {},
   "source": [
    "# RENDIMIENTO"
   ]
  },
  {
   "cell_type": "markdown",
   "metadata": {},
   "source": [
    "###### En éste proyecto simularemos una inversión utilizando el modelo financiero SP500 y sacaremos los rendimienmtos que se obtuvieron en la inversión"
   ]
  },
  {
   "cell_type": "markdown",
   "metadata": {},
   "source": [
    "## Objetivos"
   ]
  },
  {
   "cell_type": "markdown",
   "metadata": {},
   "source": [
    "##### 1.1 Objetivo general \n",
    " Calcular el rendimiento y la votavilidad de la inversion dependiendo la tasa de interes, Tasa de prestamo y Monto inicial. \n",
    "\n",
    "\n",
    "##### 1.2 Objetivos especificos \n",
    "- Determinar la tasa de rendimiento\n",
    "- Obtener el monto final de la inversión\n",
    "- Conocer la volatibilidad de la inversión \n",
    " \n",
    " #### 1.3 Modelo que representa el problema \n",
    " $$(1+tasaprestamo)*montoinicial = $12,000$$\n",
    "\n",
    "\n",
    "#### 1.4 Simulaciones\n",
    "\n",
    "Seleccionamos un monto inicial y le agregamos una cantidad prestada con la tasa de prestamo, a este valor sumado le llamamos monto disponible el cual se invirtio y dependiento del rendimiento de bolsa fue el valor del subtotal. Al tener el subtotal le restamos la tasa de interes de nuestro prestamo para obtener el monto final. \n",
    "Al final obtuvimos la tasa de rendimiento con los valores del monto final y el monto inicial.\n",
    "\n",
    "Primero se hizo con un rendimiento de bolsa de 12%, despues se uso monte carlo para obtener numeros aleatorios con una media de 12 y una desviacion estandar de .20"
   ]
  },
  {
   "cell_type": "markdown",
   "metadata": {},
   "source": [
    "### 1.5 Visualización de resultados de simulación."
   ]
  },
  {
   "cell_type": "code",
   "execution_count": 3,
   "metadata": {},
   "outputs": [],
   "source": [
    "%matplotlib inline\n",
    "import matplotlib.pylab as plt\n",
    "import numpy as np\n",
    "from sympy import *\n",
    "import pandas as pd\n",
    "from scipy import stats"
   ]
  },
  {
   "cell_type": "markdown",
   "metadata": {},
   "source": [
    "\n",
    "* Invertiremos en el instrumento SP500\n",
    "*Supongamos que loos rendimientos anuales del SP500 se distribuyen normalmente con media =0.12 y desviacion estandar =0.2\n",
    "*Te dan un prestamo que se expresa como una proporcion del monto de inversion.\n",
    "\n",
    "\n",
    "$$(1+0.20)*10,000 = $12,000$$\n"
   ]
  },
  {
   "cell_type": "markdown",
   "metadata": {},
   "source": [
    "### Definimos valores"
   ]
  },
  {
   "cell_type": "code",
   "execution_count": 4,
   "metadata": {},
   "outputs": [],
   "source": [
    "MontoInicial = 10000\n",
    "TasaPrestamo = .02\n",
    "Prestamo = MontoInicial * TasaPrestamo\n",
    "TasaInteres= .05"
   ]
  },
  {
   "cell_type": "code",
   "execution_count": 5,
   "metadata": {},
   "outputs": [
    {
     "data": {
      "text/plain": [
       "10200.0"
      ]
     },
     "execution_count": 5,
     "metadata": {},
     "output_type": "execute_result"
    }
   ],
   "source": [
    "MontoDisponible = MontoInicial + Prestamo;\n",
    "MontoDisponible"
   ]
  },
  {
   "cell_type": "markdown",
   "metadata": {},
   "source": [
    "#### Rendimiento de bolsa"
   ]
  },
  {
   "cell_type": "code",
   "execution_count": 6,
   "metadata": {},
   "outputs": [],
   "source": [
    "Rendimiento = .12"
   ]
  },
  {
   "cell_type": "markdown",
   "metadata": {},
   "source": [
    "##### Pago de prestamo"
   ]
  },
  {
   "cell_type": "code",
   "execution_count": 7,
   "metadata": {},
   "outputs": [
    {
     "data": {
      "text/plain": [
       "210.0"
      ]
     },
     "execution_count": 7,
     "metadata": {},
     "output_type": "execute_result"
    }
   ],
   "source": [
    "Subtotal = Rendimiento * MontoDisponible + MontoDisponible\n",
    "PagoPrestamo = Prestamo + TasaInteres * Prestamo; \n",
    "PagoPrestamo"
   ]
  },
  {
   "cell_type": "code",
   "execution_count": 8,
   "metadata": {},
   "outputs": [
    {
     "data": {
      "text/plain": [
       "11424.0"
      ]
     },
     "execution_count": 8,
     "metadata": {},
     "output_type": "execute_result"
    }
   ],
   "source": [
    "Subtotal"
   ]
  },
  {
   "cell_type": "code",
   "execution_count": 9,
   "metadata": {},
   "outputs": [
    {
     "data": {
      "text/plain": [
       "11214.0"
      ]
     },
     "execution_count": 9,
     "metadata": {},
     "output_type": "execute_result"
    }
   ],
   "source": [
    "MontoFinal = Subtotal - PagoPrestamo; MontoFinal"
   ]
  },
  {
   "cell_type": "markdown",
   "metadata": {},
   "source": [
    "###### Tasa de rendimiento"
   ]
  },
  {
   "cell_type": "code",
   "execution_count": 10,
   "metadata": {},
   "outputs": [
    {
     "data": {
      "text/plain": [
       "0.1214"
      ]
     },
     "execution_count": 10,
     "metadata": {},
     "output_type": "execute_result"
    }
   ],
   "source": [
    "Rendimiento = (MontoFinal - MontoInicial)/MontoInicial; Rendimiento"
   ]
  },
  {
   "cell_type": "code",
   "execution_count": 11,
   "metadata": {},
   "outputs": [
    {
     "name": "stdout",
     "output_type": "stream",
     "text": [
      "Monto inicial: $ 10000 pesos.\n",
      "Pedí prestado: $ 200.0 pesos.\n",
      "Invertí: $ 10200.0 pesos.\n",
      "Termine con: $ 11424.0 pesos.\n",
      "Pago prestamo: $ 210.0 pesos.\n",
      "Monto final: $ 11214.0 pesos.\n",
      "Rendimiento: 0.1214 %\n"
     ]
    }
   ],
   "source": [
    "print (\"Monto inicial: $ \"+ str(MontoInicial)+ \" pesos.\")\n",
    "print (\"Pedí prestado: $ \"+ str(Prestamo)+ \" pesos.\")\n",
    "print (\"Invertí: $ \"+ str(MontoDisponible)+ \" pesos.\")\n",
    "print (\"Termine con: $ \"+ str(Subtotal)+ \" pesos.\")\n",
    "print (\"Pago prestamo: $ \"+ str(PagoPrestamo)+ \" pesos.\")\n",
    "print (\"Monto final: $ \"+ str(MontoFinal)+ \" pesos.\")\n",
    "print (\"Rendimiento: \"+ str(Rendimiento)+ \" %\")"
   ]
  },
  {
   "cell_type": "markdown",
   "metadata": {},
   "source": [
    "# RENDIMIENTO CON MONTECARLO"
   ]
  },
  {
   "cell_type": "code",
   "execution_count": 12,
   "metadata": {},
   "outputs": [
    {
     "name": "stdout",
     "output_type": "stream",
     "text": [
      "Monto inicial: $ 10000 pesos.\n",
      "Pedí prestado: $ 200.0 pesos.\n",
      "Invertí: $ 10200.0 pesos.\n",
      "Termine con: $ 13243.330453504554 pesos.\n",
      "Pago prestamo: $ 210.0 pesos.\n",
      "Monto final: $ 13033.330453504554 pesos.\n",
      "Rendimiento: 0.30333304535045535 %\n"
     ]
    }
   ],
   "source": [
    "MontoInicial = 10000\n",
    "TasaPrestamo = .02\n",
    "Prestamo = MontoInicial * TasaPrestamo\n",
    "TasaInteres= .05\n",
    "\n",
    "#Monto disponible para invertir en SP500\n",
    "MontoDisponible = MontoInicial + Prestamo\n",
    "MontoDisponible\n",
    "#Rendimiento bolsa es de 12%\n",
    "Rendimiento = np.random.normal(.12,.20)\n",
    "#Rendimiento = np.random.rand(10)\n",
    "#Pago de prestamo\n",
    "Subtotal = Rendimiento * MontoDisponible + MontoDisponible\n",
    "PagoPrestamo = Prestamo + TasaInteres * Prestamo #Pagar\n",
    "\n",
    "#Monto final (despues de pagar el prestamo)\n",
    "MontoFinal = Subtotal - PagoPrestamo\n",
    "\n",
    "#Tasa Rendimiento inversion\n",
    "Rendimiento = (MontoFinal - MontoInicial)/MontoInicial\n",
    "\n",
    "print (\"Monto inicial: $ \"+ str(MontoInicial)+ \" pesos.\")\n",
    "print (\"Pedí prestado: $ \"+ str(Prestamo)+ \" pesos.\")\n",
    "print (\"Invertí: $ \"+ str(MontoDisponible)+ \" pesos.\")\n",
    "print (\"Termine con: $ \"+ str(Subtotal)+ \" pesos.\")\n",
    "print (\"Pago prestamo: $ \"+ str(PagoPrestamo)+ \" pesos.\")\n",
    "print (\"Monto final: $ \"+ str(MontoFinal)+ \" pesos.\")\n",
    "print (\"Rendimiento: \"+ str(Rendimiento)+ \" %\")"
   ]
  },
  {
   "cell_type": "code",
   "execution_count": 13,
   "metadata": {},
   "outputs": [],
   "source": [
    "def SP5002(MontoInicial, TasaPrestamo, TasaInteres):\n",
    "    Prestamo = MontoInicial * TasaPrestamo\n",
    "    MontoDisponible = MontoInicial + Prestamo\n",
    "    MontoDisponible\n",
    "    Rendimiento = np.random.normal(.12,.20)\n",
    "    Subtotal = Rendimiento * MontoDisponible + MontoDisponible\n",
    "    PagoPrestamo = Prestamo + TasaInteres * Prestamo\n",
    "    MontoFinal = Subtotal - PagoPrestamo\n",
    "    Rendimiento = (MontoFinal - MontoInicial)/MontoInicial\n",
    "    print (\"Rendimiento: \"+ str(Rendimiento)+ \"%\")"
   ]
  },
  {
   "cell_type": "code",
   "execution_count": 14,
   "metadata": {},
   "outputs": [],
   "source": [
    "def SP500():\n",
    "    MontoInicial = 10000\n",
    "    TasaPrestamo = .3\n",
    "    Prestamo = MontoInicial * TasaPrestamo\n",
    "    TasaInteres= .05\n",
    "    MontoDisponible = MontoInicial + Prestamo\n",
    "    MontoDisponible\n",
    "    Rendimiento = np.random.normal(.12,.20)\n",
    "    Subtotal = Rendimiento * MontoDisponible + MontoDisponible\n",
    "    PagoPrestamo = Prestamo + TasaInteres * Prestamo\n",
    "    MontoFinal = Subtotal - PagoPrestamo\n",
    "    Rendimiento = (MontoFinal - MontoInicial)/MontoInicial\n",
    "    return Rendimiento"
   ]
  },
  {
   "cell_type": "code",
   "execution_count": 15,
   "metadata": {},
   "outputs": [],
   "source": [
    "def Rendimiento(N):\n",
    "    Rendimientos = np.zeros(N)\n",
    "\n",
    "    for i in range(1000):\n",
    "        Rendimientos[i] = SP500 ()\n",
    "    \n",
    "    print ( \"Rendimiento promedio: \"+ str(np.mean(Rendimientos)*100)+ \"%\")\n",
    "    print (\"Rendimiento tiene una volatilidad: \"+str(np.std(Rendimientos)*100)+\"%\")"
   ]
  },
  {
   "cell_type": "code",
   "execution_count": 16,
   "metadata": {},
   "outputs": [
    {
     "name": "stdout",
     "output_type": "stream",
     "text": [
      "Rendimiento promedio: 13.322182376180573%\n",
      "Rendimiento tiene una volatilidad: 25.627923238839696%\n"
     ]
    }
   ],
   "source": [
    "Rendimiento(1000)"
   ]
  },
  {
   "cell_type": "code",
   "execution_count": 33,
   "metadata": {},
   "outputs": [
    {
     "data": {
      "image/png": "[encoded data removed]",
      "text/plain": [
       "<matplotlib.figure.Figure at 0x2199dbbaf28>"
      ]
     },
     "metadata": {},
     "output_type": "display_data"
    }
   ],
   "source": [
    "X = stats.norm(.12,.20)\n",
    "inter = X.interval (.95)\n",
    "x999 = np.linspace (*inter, 1000)\n",
    "plt.plot (x999, X.pdf(x999));\n"
   ]
  },
  {
   "cell_type": "markdown",
   "metadata": {},
   "source": [
    "### 1.6 Conclusiones."
   ]
  },
  {
   "cell_type": "markdown",
   "metadata": {},
   "source": [
    "- Usando una distribucion normal en el rendimiento la volatibilidad es menor.\n"
   ]
  },
  {
   "cell_type": "code",
   "execution_count": null,
   "metadata": {},
   "outputs": [],
   "source": []
  },
  {
   "cell_type": "code",
   "execution_count": null,
   "metadata": {},
   "outputs": [],
   "source": []
  },
  {
   "cell_type": "code",
   "execution_count": null,
   "metadata": {},
   "outputs": [],
   "source": []
  }
 ],
 "metadata": {
  "kernelspec": {
   "display_name": "Python 3",
   "language": "python",
   "name": "python3"
  },
  "language_info": {
   "codemirror_mode": {
    "name": "ipython",
    "version": 3
   },
   "file_extension": ".py",
   "mimetype": "text/x-python",
   "name": "python",
   "nbconvert_exporter": "python",
   "pygments_lexer": "ipython3",
   "version": "3.6.4"
  }
 },
 "nbformat": 4,
 "nbformat_minor": 2
}
